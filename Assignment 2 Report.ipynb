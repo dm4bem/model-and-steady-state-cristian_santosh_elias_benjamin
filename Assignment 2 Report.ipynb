{
 "cells": [
  {
   "cell_type": "markdown",
   "id": "56d6ab89",
   "metadata": {},
   "source": [
    "# Steady state and Step response"
   ]
  },
  {
   "cell_type": "markdown",
   "id": "fdc62d2f",
   "metadata": {},
   "source": [
    "Thermal Model Simulation.\n",
    "This notebook simulates a simplified thermal model of a building using the `dm4bem` library in Python. It compares indoor temperature evolution using both explicit and implicit Euler methods, with and without a controller."
   ]
  },
  {
   "cell_type": "markdown",
   "id": "bc688755",
   "metadata": {},
   "source": [
    "Imports and Configuration Load  Python libraries like numpy, pandas, matplotlib, and dm4bem"
   ]
  },
  {
   "cell_type": "code",
   "execution_count": null,
   "id": "abefa12f",
   "metadata": {},
   "outputs": [],
   "source": [
    "import numpy as np \n",
    "import pandas as pd\n",
    "import matplotlib.pyplot as plt\n",
    "\n",
    "import dm4bem\n"
   ]
  },
  {
   "cell_type": "markdown",
   "id": "8656cd24",
   "metadata": {},
   "source": [
    "Model Setup we neglected the glass capacity because we took the equivalent value which is combined together."
   ]
  },
  {
   "cell_type": "code",
   "execution_count": null,
   "id": "5580c7ac",
   "metadata": {},
   "outputs": [],
   "source": [
    "controller = False\n",
    "neglect_air_glass_capacity = True \n",
    "imposed_time_step = True\n",
    "Δt = 1800  # s,imposed time step\n"
   ]
  },
  {
   "cell_type": "markdown",
   "id": "3ea1278b",
   "metadata": {},
   "source": [
    "Load Thermal Circuit from CSV\n",
    "\n",
    "The thermal circuit is loaded using the 'dm4bem.file2TC()' function, which reads a '.csv' file containing the thermal model elements.\n",
    "\n",
    "If the 'controller' flag is set to 'True', we simulate an active control system by assigning a high thermal conductance value (1000 W/K) to nodes 'q6' and 'q14'. This represents strong temperature regulation — similar to a thermostat — which ensures the room temperature closely follows the set point.\n"
   ]
  },
  {
   "cell_type": "code",
   "execution_count": null,
   "id": "48d862d4",
   "metadata": {},
   "outputs": [],
   "source": [
    "TC = dm4bem.file2TC('./MODEL/TC.csv', name='', auto_number=False)\n",
    "\n",
    "if controller:\n",
    "    TC['G']['q6'] = 1e3\n",
    "    TC['G']['q14'] = 1e3\n"
   ]
  },
  {
   "cell_type": "markdown",
   "id": "92fb3e01",
   "metadata": {},
   "source": [
    "now Convert to State-Space and Determine Time Step\n",
    "\n",
    "The thermal circuit model is converted to its state-space representationusing the 'dm4bem.tc2ss()' function, resulting in matrices 'A', 'B', 'c', and 'D', which describe the system's dynamics.\n",
    "\n",
    "The eigenvalues of matrix 'A' are used to calculate the maximum stable time step('Δtmax') for the explicit Euler method. This ensures numerical stability.\n"
   ]
  },
  {
   "cell_type": "code",
   "execution_count": null,
   "id": "b523950a",
   "metadata": {},
   "outputs": [],
   "source": [
    "[As, Bs, Cs, Ds, us] = dm4bem.tc2ss(TC)\n",
    "λ = np.linalg.eig(As)[0]\n",
    "\n",
    "Δtmax = 2 * min(-1 / λ)\n",
    "dt = Δt if imposed_time_step else dm4bem.round_time(Δtmax)\n",
    "\n",
    "t_settle = 4 * max(-1 / λ)\n",
    "duration = np.ceil(t_settle / 3600) * 3600\n"
   ]
  },
  {
   "cell_type": "markdown",
   "id": "16155c36",
   "metadata": {},
   "source": [
    "Now Generates input and time Vector\n",
    "\n",
    "In this step, we create the input signals for the thermal model over the simulation period.\n",
    "\n",
    "'To': Outdoor temperature is set to a constant 10 °C.\n",
    "'Ti1', 'Ti2': Indoor set point temperatures are both set to 20 °C.\n",
    "'Φi1', 'Φi2', 'Φo1', 'Φo2': All solar radiation and auxiliary heating inputs are set to 0 (no heat gains/losses from solar or internal sources).\n",
    "\n",
    "These arrays are then combined into a DataFrame 'input_data_set', with the simulation 'time' as the index. This will be used to feed the model with time-varying (or constant) boundary conditions.\n"
   ]
  },
  {
   "cell_type": "code",
   "execution_count": null,
   "id": "07f806b7",
   "metadata": {},
   "outputs": [],
   "source": [
    "To = 10 * np.ones(n)         # outdoor temperature 10 °C\n",
    "Ti1 = 20 * np.ones(n)        # indoor temperature set point 20 °C\n",
    "Ti2 = 20 * np.ones(n)        # indoor temperature set point 20 °C\n",
    "Φi1 = 0 * np.ones(n)         # solar radiation absorbed by the glass\n",
    "Φo2 = Φo1 = Φi2 = Φi1        # auxiliary heat sources and solar radiation\n",
    "\n",
    "\n",
    "data = {'To': To, 'Ti1': Ti1, 'To': To, 'Ti2': Ti2, 'To': To, 'Φo1': Φo1, 'Φi1': Φi1, 'Φi2': Φi2, 'Φo2': Φo2}\n",
    "input_data_set = pd.DataFrame(data, index=time)"
   ]
  },
  {
   "cell_type": "markdown",
   "id": "e75929ac",
   "metadata": {},
   "source": [
    "Time Integration (Euler) Computes indoor temperatures using explicit and implicit Euler methods.\n",
    "\n",
    "In this step, we simulate how indoor temperatures evolve over time using two numerical methods:\n",
    "\n",
    "-Explicit Euler: Calculates the next state directly using the current state.\n",
    "-Implicit Euler: Uses the next state in the equation (requires solving a matrix inverse at each step).\n",
    "\n",
    "We initialize both temperature dataframes ;θ_exp' and 'θ_imp' with zeros as the initial indoor temperature. Then, using a loop, we compute temperatures at each time step using the state-space matrices 'As' and 'Bs'.\n",
    "\n",
    "The identity matrix 'I' is used to match the size of matrix 'As' for numerical operations.\n"
   ]
  },
  {
   "cell_type": "code",
   "execution_count": null,
   "id": "d2aa378d",
   "metadata": {},
   "outputs": [],
   "source": [
    "θ_exp = pd.DataFrame(index=u.index)\n",
    "θ_imp = pd.DataFrame(index=u.index)\n",
    "\n",
    "θ0 = 0.0\n",
    "θ_exp[As.columns] = θ0\n",
    "θ_imp[As.columns] = θ0\n",
    "\n",
    "I = np.eye(As.shape[0])\n",
    "for k in range(u.shape[0] - 1):\n",
    "    θ_exp.iloc[k + 1] = (I + dt * As) @ θ_exp.iloc[k] + dt * Bs @ u.iloc[k]\n",
    "    θ_imp.iloc[k + 1] = np.linalg.inv(I - dt * As) @ (θ_imp.iloc[k] + dt * Bs @ u.iloc[k])\n"
   ]
  },
  {
   "cell_type": "markdown",
   "id": "4aac2740",
   "metadata": {},
   "source": [
    "Results and plotting\n",
    "\n",
    "This section visualizes the indoor temperatures computed by both explicit and implicit Euler methods.\n",
    "\n",
    "-The output temperatures y_exp and y_imp are calculated using the state-space output equation:  \n",
    " nated into a single DataFrame y for easy plotting.\n",
    "\n",
    "The graph displays the temperature evolution over time for Room 1 and Room 2, allowing comparison between both numerical methods. The plot title also shows the chosen and maximum allowable time step.\n"
   ]
  },
  {
   "cell_type": "code",
   "execution_count": null,
   "id": "6f05c34c",
   "metadata": {},
   "outputs": [],
   "source": [
    "y_exp = (Cs @ θ_exp.T + Ds @ u.T).T\n",
    "y_imp = (Cs @ θ_imp.T + Ds @ u.T).T\n",
    "\n",
    "y = pd.concat([y_exp, y_imp], axis=1)\n",
    "y.columns = ['y_explicit_Room1', 'y_explicit_Room2', 'y_implicit_Room1', 'y_implicit_Room2']\n",
    "\n",
    "ax = y.plot()\n",
    "ax.set_xlabel('Time')\n",
    "ax.set_ylabel('Indoor temperature, $\\\\theta_i$ / °C')\n",
    "ax.set_title(f'Time step: dt = {dt:.0f} s; dt_max = {Δtmax:.0f} s')\n",
    "plt.grid()\n",
    "plt.show()\n"
   ]
  },
  {
   "cell_type": "markdown",
   "id": "a84b78c2",
   "metadata": {},
   "source": [
    " FinallySteady-State Temperature Output"
   ]
  },
  {
   "cell_type": "code",
   "execution_count": null,
   "id": "d9e350c7",
   "metadata": {},
   "outputs": [],
   "source": [
    "print(\"Steady-state indoor temperature:\")\n",
    "print(f\"- Room 1: {y_exp.iloc[-1, 0]:.2f} °C\")\n",
    "print(f\"- Room 2: {y_exp.iloc[-1, 1]:.2f} °C\")\n"
   ]
  }
 ],
 "metadata": {
  "kernelspec": {
   "display_name": "Python 3 (ipykernel)",
   "language": "python",
   "name": "python3"
  },
  "language_info": {
   "codemirror_mode": {
    "name": "ipython",
    "version": 3
   },
   "file_extension": ".py",
   "mimetype": "text/x-python",
   "name": "python",
   "nbconvert_exporter": "python",
   "pygments_lexer": "ipython3",
   "version": "3.9.12"
  }
 },
 "nbformat": 4,
 "nbformat_minor": 5
}
