{
 "cells": [
  {
   "cell_type": "markdown",
   "id": "6c6d8103-08a0-4419-8195-504e7da55655",
   "metadata": {},
   "source": [
    "The script starts by importing essential Python libraries:"
   ]
  },
  {
   "cell_type": "code",
   "execution_count": null,
   "id": "50262488-4bd1-4ea0-9063-e186670b2318",
   "metadata": {},
   "outputs": [],
   "source": [
    "import numpy as np                 \n",
    "import pandas as pd                   \n",
    "import matplotlib.pyplot as plt       \n",
    "import dm4bem                         "
   ]
  },
  {
   "cell_type": "markdown",
   "id": "a46910a6-fdf2-487c-b2ed-d46c17a184f7",
   "metadata": {},
   "source": [
    "Flags are defined to control the behavior of the simulation:controller = True enables a simulated temperature controller.neglect_air_glass_capacity = True assumes air and glass have no thermal capacity             imposed_time_step decides if we force a fixed time step (Δt = 1800 s = 30 min)."
   ]
  },
  {
   "cell_type": "code",
   "execution_count": null,
   "id": "eeb0e337-f129-47b5-b296-a2368861eaa3",
   "metadata": {},
   "outputs": [],
   "source": [
    "controller = True                            \n",
    "neglect_air_glass_capacity = True            \n",
    "imposed_time_step = False                    \n",
    "Δt = 1800                                    "
   ]
  },
  {
   "cell_type": "markdown",
   "id": "77e5f64c-e2d1-4a8e-99a7-8ebb705caaeb",
   "metadata": {},
   "source": [
    "  The thermal circuit (a representation of the building’s thermal behavior) is loaded from a CSV file using dm4bem.file2TC.\n",
    "  If the controller is activated, two conductances q6 and q14 are set to a very large value (1000 W/K) to simulate perfect indoor temperature control."
   ]
  },
  {
   "cell_type": "code",
   "execution_count": null,
   "id": "baabe6d2-4048-4826-adc2-74e383f9ab20",
   "metadata": {},
   "outputs": [],
   "source": [
    "TC = dm4bem.file2TC('./MODEL/TC.csv', name='', auto_number=False)\n",
    "if controller:\n",
    "    TC['G']['q6'] = 1e3        \n",
    "    TC['G']['q14'] = 1e3 "
   ]
  },
  {
   "cell_type": "markdown",
   "id": "4d569f1e-7fe4-4f4b-80a8-2518f7a0420f",
   "metadata": {},
   "source": [
    "The thermal circuit is converted into a state-space model using dm4bem.tc2ss(). This allows us to simulate the thermal dynamics of the system with matrices."
   ]
  },
  {
   "cell_type": "code",
   "execution_count": null,
   "id": "80a98c61-d89a-42a6-87d5-e1f235be7ac8",
   "metadata": {},
   "outputs": [],
   "source": [
    "As, Bs, Cs, Ds, us] = dm4bem.tc2ss(TC)"
   ]
  },
  {
   "cell_type": "markdown",
   "id": "d4400443-dc6d-4e39-ad2b-50fcee93c41c",
   "metadata": {},
   "source": [
    " Compute eigenvalues, max stable Δt, and choose time step\n",
    "\n"
   ]
  },
  {
   "cell_type": "code",
   "execution_count": null,
   "id": "89206dc9-3079-47ab-8e0f-67cb47880828",
   "metadata": {},
   "outputs": [],
   "source": [
    "\n",
    "λ = np.linalg.eig(As)[0]\n",
    "Δtmax = 2 * min(-1 / λ)\n",
    "dm4bem.print_rounded_time('Δtmax', Δtmax)\n",
    "\n",
    "imposed_time_step = True\n",
    "dt = Δt if imposed_time_step else dm4bem.round_time(Δtmax)\n",
    "\n",
    "if dt < 10:\n",
    "    raise ValueError(\"Time step is too small. Stopping the script.\")\n",
    "\n",
    "dm4bem.print_rounded_time('dt', dt)"
   ]
  },
  {
   "cell_type": "markdown",
   "id": "9c4a0d0d-d42b-46ec-9f82-1884cefea8a3",
   "metadata": {},
   "source": [
    "Calculate settling time and total duration for simulation"
   ]
  },
  {
   "cell_type": "code",
   "execution_count": null,
   "id": "38738650-8f7c-4296-967c-a3195953a216",
   "metadata": {},
   "outputs": [],
   "source": [
    "t_settle = 4 * max(-1 / λ)\n",
    "dm4bem.print_rounded_time('t_settle', t_settle)\n",
    "\n",
    "duration = np.ceil(t_settle / 3600) * 3600\n",
    "dm4bem.print_rounded_time('duration', duration)"
   ]
  },
  {
   "cell_type": "markdown",
   "id": "566f7cd7-3d24-45d9-a4b1-8d478181e2b8",
   "metadata": {},
   "source": [
    " Set start and end dates for simulation (May 1 to May 7, 2025)"
   ]
  },
  {
   "cell_type": "code",
   "execution_count": null,
   "id": "9442c191-cb47-44b7-a349-c415d93642df",
   "metadata": {},
   "outputs": [],
   "source": [
    "start_date = '05-01 12:00:00'\n",
    "end_date = '05-07 12:00:00'\n",
    "start_date = '2025-' + start_date\n",
    "end_date = '2025-' + end_date\n",
    "print(f'{start_date} \\tstart date')\n",
    "print(f'{end_date} \\tend date')"
   ]
  },
  {
   "cell_type": "markdown",
   "id": "9c1d9d27-445d-44be-a808-d2a46f5cb810",
   "metadata": {},
   "source": [
    " Load EPW file, get air temp and radiation, filter for period"
   ]
  },
  {
   "cell_type": "code",
   "execution_count": null,
   "id": "3a421241-5b87-4507-bfeb-868b3fb9fe77",
   "metadata": {
    "jupyter": {
     "source_hidden": true
    }
   },
   "outputs": [],
   "source": [
    "filename = './weather_data/FRA_AR_Grenoble_Airport.epw'\n",
    "[data, meta] = dm4bem.read_epw(filename, coerce_year=None)\n",
    "\n",
    "weather = data[[\"temp_air\", \"dir_n_rad\", \"dif_h_rad\"]]\n",
    "del data\n",
    "weather.index = weather.index.map(lambda t: t.replace(year=2025))\n",
    "weather = weather.loc[start_date:end_date]\n"
   ]
  },
  {
   "cell_type": "markdown",
   "id": "2afe4022-ceb8-434f-b3d1-aa0c506dc4ab",
   "metadata": {},
   "source": [
    " Get outside air temperature as input"
   ]
  },
  {
   "cell_type": "code",
   "execution_count": null,
   "id": "b61b4240-9dfc-4b06-8b6c-adbf440e7b25",
   "metadata": {},
   "outputs": [],
   "source": [
    "To = weather['temp_air']"
   ]
  },
  {
   "cell_type": "markdown",
   "id": "3eb9b964-8fc4-404f-9d40-8be1111f3239",
   "metadata": {},
   "source": [
    " Define α, τ for walls and glass; load wall data"
   ]
  },
  {
   "cell_type": "code",
   "execution_count": null,
   "id": "f21112cf-09c0-4496-9106-66649d9eb6f9",
   "metadata": {},
   "outputs": [],
   "source": [
    "α_wSW = 0.25\n",
    "α_gSW = 0.38\n",
    "τ_gSW = 0.30\n",
    "\n",
    "wall_out = pd.read_csv('./BLDG/walls_out.csv')\n",
    "w1 = wall_out[wall_out['ID'] == 'w0']\n",
    "w2 = wall_out[wall_out['ID'] == 'w1']\n",
    "wall_in = pd.read_csv('./BLDG/walls_in.csv')\n",
    "w3 = wall_out[wall_out['ID'] == 'w0']"
   ]
  },
  {
   "cell_type": "markdown",
   "id": "c0826d40-347b-453c-9751-c7fbacf4634f",
   "metadata": {},
   "source": [
    "Compute tilted surface irradiance Etot"
   ]
  },
  {
   "cell_type": "code",
   "execution_count": null,
   "id": "2f26471e-2f97-4620-a4e3-f42067f2e70f",
   "metadata": {},
   "outputs": [],
   "source": [
    "surface_orientation = {'slope': w1['β'].values[0],\n",
    "                       'azimuth': w1['γ'].values[0],\n",
    "                       'latitude': 45}\n",
    "\n",
    "rad_surf = dm4bem.sol_rad_tilt_surf(weather, surface_orientation, w1['albedo'].values[0])\n",
    "Etot = rad_surf.sum(axis=1)"
   ]
  },
  {
   "cell_type": "markdown",
   "id": "7f5b081a-1470-4952-9d7d-27a944298450",
   "metadata": {},
   "source": [
    "Calculate solar energy absorbed: Φo1, Φo2, Φi1, Φi2\n",
    "Shortwave radiation properties of walls and glass are defined:"
   ]
  },
  {
   "cell_type": "code",
   "execution_count": null,
   "id": "aa9cbc35-eba4-41d7-bca7-ae4ff0bf6c7f",
   "metadata": {},
   "outputs": [],
   "source": [
    "Φo1 = w1['α1'].values[0] * w1['Area'].values[0] * Etot\n",
    "Φo2 = w2['α1'].values[0] * w2['Area'].values[0] * Etot\n",
    "\n",
    "S_glass = 12  # m²\n",
    "Φi1 = τ_gSW * w2['α0'].values[0] * S_glass * Etot\n",
    "Φi2 = τ_gSW * w3['α0'].values[0] * S_glass * Etot"
   ]
  },
  {
   "cell_type": "markdown",
   "id": "511cb498-5b05-476b-a28c-3b69b3947049",
   "metadata": {},
   "source": [
    "Set indoor temps: 20°C during day, 16°C at night"
   ]
  },
  {
   "cell_type": "code",
   "execution_count": null,
   "id": "28333d77-e37a-4a0e-894c-b7f95aee2966",
   "metadata": {},
   "outputs": [],
   "source": [
    "Ti_day, Ti_night = 20, 16\n",
    "\n",
    "Ti1 = pd.Series([Ti_day if 6 <= hour <= 22 else Ti_night for hour in To.index.hour], index=To.index)\n",
    "Ti2 = pd.Series([Ti_day if 6 <= hour <= 22 else Ti_night for hour in To.index.hour], index=To.index)"
   ]
  },
  {
   "cell_type": "markdown",
   "id": "5898a9c2-efd9-41da-b0a6-10a909acac7b",
   "metadata": {},
   "source": [
    " Combine all data in one DataFrame and save to CSV"
   ]
  },
  {
   "cell_type": "code",
   "execution_count": null,
   "id": "ce5da129-9445-4b01-8138-d22131483cd3",
   "metadata": {},
   "outputs": [],
   "source": [
    "input_data_set = pd.DataFrame({'To': To, 'Ti1': Ti1, 'Ti2': Ti2,\n",
    "                               'Φo1': Φo1, 'Φi1': Φi1, 'Φi2': Φi2,\n",
    "                               'Φo2': Φo2, 'Etot': Etot})\n",
    "\n",
    "input_data_set.to_csv('./MODEL/input_data_set.csv')"
   ]
  }
 ],
 "metadata": {
  "kernelspec": {
   "display_name": "Python 3 (ipykernel)",
   "language": "python",
   "name": "python3"
  },
  "language_info": {
   "codemirror_mode": {
    "name": "ipython",
    "version": 3
   },
   "file_extension": ".py",
   "mimetype": "text/x-python",
   "name": "python",
   "nbconvert_exporter": "python",
   "pygments_lexer": "ipython3",
   "version": "3.12.7"
  }
 },
 "nbformat": 4,
 "nbformat_minor": 5
}
